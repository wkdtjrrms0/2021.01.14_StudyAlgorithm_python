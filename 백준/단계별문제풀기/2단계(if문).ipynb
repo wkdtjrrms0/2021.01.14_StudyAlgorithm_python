{
 "cells": [
  {
   "cell_type": "code",
   "execution_count": null,
   "metadata": {},
   "outputs": [],
   "source": [
    "#1번\n",
    "a, b = map(int, input().split())\n",
    "if(a > b): print(\">\")\n",
    "elif(a < b): print(\"<\")\n",
    "else: print(\"==\")"
   ]
  },
  {
   "cell_type": "code",
   "execution_count": null,
   "metadata": {},
   "outputs": [],
   "source": [
    "#2번\n",
    "score = int(input())\n",
    "if(90 <= score) and (score <= 100): \n",
    "    print(\"A\")\n",
    "elif(80 <= score) and (score < 90): \n",
    "    print(\"B\")\n",
    "elif(70 <= score) and (score < 80): \n",
    "    print(\"C\")\n",
    "elif(60 <= score) and (score < 70): \n",
    "    print(\"D\")\n",
    "elif(score < 60): \n",
    "    print(\"F\")    \n",
    "else: \n",
    "    print(\"값이 잘못되었습니다. 0~100의 값을 입력해주세요.\")"
   ]
  },
  {
   "cell_type": "code",
   "execution_count": null,
   "metadata": {},
   "outputs": [],
   "source": [
    "#3번\n",
    "year = int(input())\n",
    "if(year % 4 == 0 and (year % 100 != 0 or year % 400 == 0)):\n",
    "    print(\"1\")\n",
    "else:\n",
    "    print(\"0\")"
   ]
  },
  {
   "cell_type": "code",
   "execution_count": null,
   "metadata": {},
   "outputs": [],
   "source": [
    "#4번\n",
    "x = int(input())\n",
    "y = int(input())\n",
    "if(x > 0):\n",
    "    if(y > 0):\n",
    "        print(\"1\")\n",
    "    else:\n",
    "        print(\"4\")\n",
    "else:\n",
    "    if(y > 0):\n",
    "        print(\"2\")\n",
    "    else:\n",
    "        print(\"3\")"
   ]
  },
  {
   "cell_type": "code",
   "execution_count": 2,
   "metadata": {},
   "outputs": [
    {
     "name": "stdout",
     "output_type": "stream",
     "text": [
      "10 10\n",
      "9 25\n"
     ]
    }
   ],
   "source": [
    "#5번\n",
    "H, M = map(int, input().split())\n",
    "if(M >= 45):\n",
    "    M = M - 45\n",
    "else:\n",
    "    M = 15 + M\n",
    "    H = H - 1\n",
    "    if(H < 0):\n",
    "        H = H + 24\n",
    "print(str(H) + \" \" + str(M))"
   ]
  }
 ],
 "metadata": {
  "kernelspec": {
   "display_name": "Python 3",
   "language": "python",
   "name": "python3"
  },
  "language_info": {
   "codemirror_mode": {
    "name": "ipython",
    "version": 3
   },
   "file_extension": ".py",
   "mimetype": "text/x-python",
   "name": "python",
   "nbconvert_exporter": "python",
   "pygments_lexer": "ipython3",
   "version": "3.7.6"
  }
 },
 "nbformat": 4,
 "nbformat_minor": 4
}
